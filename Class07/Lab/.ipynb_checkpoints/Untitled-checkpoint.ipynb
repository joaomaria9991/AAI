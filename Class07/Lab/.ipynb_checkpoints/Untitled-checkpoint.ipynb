{
 "cells": [
  {
   "cell_type": "code",
   "execution_count": 1,
   "id": "c5e3029d",
   "metadata": {},
   "outputs": [],
   "source": [
    "import numpy as np\n",
    "import skfuzzy as fuzz\n",
    "from skfuzzy import control as ctrl\n",
    "import matplotlib.pyplot as plt\n",
    "%matplotlib inline\n",
    "\n",
    "#price = ['low', 'medium', 'high']\n",
    "rating=['1 star','2 star','3 star','4 star','4 star']\n",
    "buy=['yes','no']"
   ]
  },
  {
   "cell_type": "code",
   "execution_count": 2,
   "id": "06657d41",
   "metadata": {
    "scrolled": true
   },
   "outputs": [
    {
     "ename": "TypeError",
     "evalue": "automf() got an unexpected keyword argument 'buy'",
     "output_type": "error",
     "traceback": [
      "\u001b[1;31m---------------------------------------------------------------------------\u001b[0m",
      "\u001b[1;31mTypeError\u001b[0m                                 Traceback (most recent call last)",
      "\u001b[1;32m<ipython-input-2-bd289abe0bfa>\u001b[0m in \u001b[0;36m<module>\u001b[1;34m\u001b[0m\n\u001b[0;32m      2\u001b[0m \u001b[0mMIN\u001b[0m \u001b[1;33m=\u001b[0m \u001b[1;36m1\u001b[0m\u001b[1;33m;\u001b[0m \u001b[0mMAX\u001b[0m \u001b[1;33m=\u001b[0m \u001b[1;36m100\u001b[0m\u001b[1;33m\u001b[0m\u001b[1;33m\u001b[0m\u001b[0m\n\u001b[0;32m      3\u001b[0m \u001b[0mprice\u001b[0m \u001b[1;33m=\u001b[0m \u001b[0mctrl\u001b[0m\u001b[1;33m.\u001b[0m\u001b[0mAntecedent\u001b[0m\u001b[1;33m(\u001b[0m\u001b[0mnp\u001b[0m\u001b[1;33m.\u001b[0m\u001b[0marange\u001b[0m\u001b[1;33m(\u001b[0m\u001b[0mMIN\u001b[0m\u001b[1;33m,\u001b[0m\u001b[0mMAX\u001b[0m\u001b[1;33m,\u001b[0m \u001b[1;36m1\u001b[0m\u001b[1;33m)\u001b[0m\u001b[1;33m,\u001b[0m \u001b[1;34m'price'\u001b[0m\u001b[1;33m)\u001b[0m\u001b[1;33m\u001b[0m\u001b[1;33m\u001b[0m\u001b[0m\n\u001b[1;32m----> 4\u001b[1;33m \u001b[0mprice\u001b[0m\u001b[1;33m.\u001b[0m\u001b[0mautomf\u001b[0m\u001b[1;33m(\u001b[0m\u001b[1;36m2\u001b[0m\u001b[1;33m,\u001b[0m \u001b[0mbuy\u001b[0m\u001b[1;33m=\u001b[0m\u001b[0mbuy\u001b[0m\u001b[1;33m)\u001b[0m\u001b[1;33m\u001b[0m\u001b[1;33m\u001b[0m\u001b[0m\n\u001b[0m\u001b[0;32m      5\u001b[0m \u001b[0mprice\u001b[0m\u001b[1;33m.\u001b[0m\u001b[0mview\u001b[0m\u001b[1;33m(\u001b[0m\u001b[1;33m)\u001b[0m\u001b[1;33m\u001b[0m\u001b[1;33m\u001b[0m\u001b[0m\n",
      "\u001b[1;31mTypeError\u001b[0m: automf() got an unexpected keyword argument 'buy'"
     ]
    }
   ],
   "source": [
    "# FUSSIFICATION\n",
    "MIN = 1; MAX = 100\n",
    "price = ctrl.Antecedent(np.arange(MIN,MAX, 1), 'price')\n",
    "price.automf(2, rating=rating)\n",
    "price.view()"
   ]
  },
  {
   "cell_type": "code",
   "execution_count": null,
   "id": "8b05c266",
   "metadata": {},
   "outputs": [],
   "source": [
    "rule1 = ctrl.Rule(weight['average'], health['high'])\n",
    "rule2 = ctrl.Rule(weight['low'] & age['high'], health['low'])\n",
    "rule3 = ctrl.Rule(weight['high'], health['low'])\n",
    "problem_ctrl  = ctrl.ControlSystem([rule1, rule2, rule3])\n",
    "problem = ctrl.ControlSystemSimulation(problem_ctrl)"
   ]
  }
 ],
 "metadata": {
  "kernelspec": {
   "display_name": "Python 3",
   "language": "python",
   "name": "python3"
  },
  "language_info": {
   "codemirror_mode": {
    "name": "ipython",
    "version": 3
   },
   "file_extension": ".py",
   "mimetype": "text/x-python",
   "name": "python",
   "nbconvert_exporter": "python",
   "pygments_lexer": "ipython3",
   "version": "3.8.8"
  }
 },
 "nbformat": 4,
 "nbformat_minor": 5
}
