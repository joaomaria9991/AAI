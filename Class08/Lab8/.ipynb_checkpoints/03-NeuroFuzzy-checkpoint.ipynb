{
 "cells": [
  {
   "cell_type": "markdown",
   "metadata": {},
   "source": [
    "# Adaptive Neuro Fuzzy Inference System"
   ]
  },
  {
   "cell_type": "code",
   "execution_count": 1,
   "metadata": {},
   "outputs": [
    {
     "ename": "SyntaxError",
     "evalue": "invalid syntax (<ipython-input-1-5f2c33157bb1>, line 10)",
     "output_type": "error",
     "traceback": [
      "\u001b[1;36m  File \u001b[1;32m\"<ipython-input-1-5f2c33157bb1>\"\u001b[1;36m, line \u001b[1;32m10\u001b[0m\n\u001b[1;33m    X = #... numpy array\u001b[0m\n\u001b[1;37m        ^\u001b[0m\n\u001b[1;31mSyntaxError\u001b[0m\u001b[1;31m:\u001b[0m invalid syntax\n"
     ]
    }
   ],
   "source": [
    "# Importing necessary libraries\n",
    "import anfis\n",
    "from anfis.membership import membershipfunction, mfDerivs\n",
    "import numpy\n",
    "\n",
    "# Load CreditScore/train.csv\n",
    "# Choose for X the Columns \"ApplicantIncome\" and \"LoanAmount\"\n",
    "# Choose for Y the Column \"Loan_Status\" \n",
    "\n",
    "X = #... numpy array\n",
    "Y = #... numpy array \n",
    "# Defining the Membership Functions\n",
    "mf = [[['gaussmf',{'mean':0.,'sigma':1.}],['gaussmf',{'mean':-1.,'sigma':2.}],['gaussmf',{'mean':-4.,'sigma':10.}],['gaussmf',{'mean':-7.,'sigma':7.}]], [['gaussmf',{'mean':1.,'sigma':2.}],['gaussmf',{'mean':2.,'sigma':3.}],['gaussmf',{'mean':-2.,'sigma':10.}],['gaussmf',{'mean':-10.5,'sigma':5.}]]]\n",
    "# Updating the model with Membership Functions\n",
    "mfc = membershipfunction.MemFuncs(mf)\n",
    "# Creating the ANFIS Model Object\n",
    "anf = anfis.ANFIS(X, Y, mfc)\n",
    "# Fitting the ANFIS Model\n",
    "anf.trainHybridJangOffLine(epochs=20)\n",
    "# Printing Output\n",
    "print(round(anf.consequents[-1][0],6))\n",
    "print(round(anf.consequents[-2][0],6))\n",
    "print(round(anf.fittedValues[9][0],6))\n",
    "# Plotting Model Performance\n",
    "anf.plotErrors()\n",
    "anf.plotResults()"
   ]
  },
  {
   "cell_type": "code",
   "execution_count": null,
   "metadata": {},
   "outputs": [],
   "source": []
  }
 ],
 "metadata": {
  "kernelspec": {
   "display_name": "Python 3",
   "language": "python",
   "name": "python3"
  },
  "language_info": {
   "codemirror_mode": {
    "name": "ipython",
    "version": 3
   },
   "file_extension": ".py",
   "mimetype": "text/x-python",
   "name": "python",
   "nbconvert_exporter": "python",
   "pygments_lexer": "ipython3",
   "version": "3.8.8"
  }
 },
 "nbformat": 4,
 "nbformat_minor": 2
}
