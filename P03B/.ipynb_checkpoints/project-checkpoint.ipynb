{
 "cells": [
  {
   "cell_type": "code",
   "execution_count": 3,
   "id": "d7bfb697",
   "metadata": {},
   "outputs": [],
   "source": [
    "#importar cenas\n",
    "import math\n",
    "import numpy as np\n",
    "import pandas as pd\n",
    "import matplotlib.pyplot as plt\n",
    "\n",
    "from keras.models import Sequential\n",
    "from keras.layers import Dense\n",
    "from keras.layers import LSTM\n",
    "from sklearn.preprocessing import MinMaxScaler\n",
    "from sklearn.metrics import mean_squared_error\n"
   ]
  },
  {
   "cell_type": "code",
   "execution_count": 4,
   "id": "a948a589",
   "metadata": {
    "scrolled": true
   },
   "outputs": [
    {
     "name": "stdout",
     "output_type": "stream",
     "text": [
      "<class 'pandas.core.frame.DataFrame'>\n",
      "RangeIndex: 11832 entries, 0 to 11831\n",
      "Data columns (total 3 columns):\n",
      " #   Column  Non-Null Count  Dtype         \n",
      "---  ------  --------------  -----         \n",
      " 0   0       11832 non-null  object        \n",
      " 1   1       11832 non-null  int64         \n",
      " 2   2       11832 non-null  datetime64[ns]\n",
      "dtypes: datetime64[ns](1), int64(1), object(1)\n",
      "memory usage: 277.4+ KB\n",
      "None\n",
      "                  1\n",
      "count  11832.000000\n",
      "mean       4.026792\n",
      "std        4.875966\n",
      "min        1.000000\n",
      "25%        1.000000\n",
      "50%        3.000000\n",
      "75%        5.000000\n",
      "max      120.000000\n"
     ]
    }
   ],
   "source": [
    "#Ler o ficheiro\n",
    "\n",
    "df_sz = 11831\n",
    "\n",
    "df=pd.read_csv('final.csv', usecols=[0,1,2],header=None, parse_dates=[2], engine='python')\n",
    "\n",
    "\n",
    "print(df.info())\n",
    "print(df.describe())\n",
    "\n",
    "\n",
    "\n",
    "\n",
    "\n",
    "\n",
    "\n"
   ]
  },
  {
   "cell_type": "code",
   "execution_count": 5,
   "id": "04982709",
   "metadata": {},
   "outputs": [],
   "source": [
    "#Retira os elementos únicos de uma lista \n",
    "\n",
    "def unique(trends):\n",
    " \n",
    "    output = []\n",
    "    for x in trends:\n",
    "        if x not in output:\n",
    "            output.append(x)\n",
    "    return output\n",
    "\n",
    "\n",
    "\n"
   ]
  },
  {
   "cell_type": "code",
   "execution_count": 6,
   "id": "68a12ccf",
   "metadata": {},
   "outputs": [
    {
     "name": "stdout",
     "output_type": "stream",
     "text": [
      "47\n"
     ]
    }
   ],
   "source": [
    "#Criar vetor p\n",
    "\n",
    "serial=list(df[0])\n",
    "serial=unique(serial)\n",
    "\n",
    "serial.sort()\n",
    "\n",
    "\n",
    "#Número de produtos\n",
    "print(len(serial))\n"
   ]
  },
  {
   "cell_type": "code",
   "execution_count": 12,
   "id": "3ca195e6",
   "metadata": {},
   "outputs": [
    {
     "data": {
      "text/html": [
       "<div>\n",
       "<style scoped>\n",
       "    .dataframe tbody tr th:only-of-type {\n",
       "        vertical-align: middle;\n",
       "    }\n",
       "\n",
       "    .dataframe tbody tr th {\n",
       "        vertical-align: top;\n",
       "    }\n",
       "\n",
       "    .dataframe thead th {\n",
       "        text-align: right;\n",
       "    }\n",
       "</style>\n",
       "<table border=\"1\" class=\"dataframe\">\n",
       "  <thead>\n",
       "    <tr style=\"text-align: right;\">\n",
       "      <th></th>\n",
       "      <th></th>\n",
       "      <th>1</th>\n",
       "    </tr>\n",
       "    <tr>\n",
       "      <th>0</th>\n",
       "      <th>2</th>\n",
       "      <th></th>\n",
       "    </tr>\n",
       "  </thead>\n",
       "  <tbody>\n",
       "    <tr>\n",
       "      <th rowspan=\"5\" valign=\"top\">8-716-011-453-AAP</th>\n",
       "      <th>2018-01-15</th>\n",
       "      <td>1</td>\n",
       "    </tr>\n",
       "    <tr>\n",
       "      <th>2018-09-01</th>\n",
       "      <td>1</td>\n",
       "    </tr>\n",
       "    <tr>\n",
       "      <th>2018-11-26</th>\n",
       "      <td>1</td>\n",
       "    </tr>\n",
       "    <tr>\n",
       "      <th>2019-01-07</th>\n",
       "      <td>1</td>\n",
       "    </tr>\n",
       "    <tr>\n",
       "      <th>2019-02-07</th>\n",
       "      <td>1</td>\n",
       "    </tr>\n",
       "    <tr>\n",
       "      <th>...</th>\n",
       "      <th>...</th>\n",
       "      <td>...</td>\n",
       "    </tr>\n",
       "    <tr>\n",
       "      <th rowspan=\"5\" valign=\"top\">JS-K8-M1W-Z97-AAP</th>\n",
       "      <th>2020-12-18</th>\n",
       "      <td>4</td>\n",
       "    </tr>\n",
       "    <tr>\n",
       "      <th>2020-12-21</th>\n",
       "      <td>6</td>\n",
       "    </tr>\n",
       "    <tr>\n",
       "      <th>2020-12-22</th>\n",
       "      <td>2</td>\n",
       "    </tr>\n",
       "    <tr>\n",
       "      <th>2020-12-23</th>\n",
       "      <td>3</td>\n",
       "    </tr>\n",
       "    <tr>\n",
       "      <th>2020-12-24</th>\n",
       "      <td>6</td>\n",
       "    </tr>\n",
       "  </tbody>\n",
       "</table>\n",
       "<p>6889 rows × 1 columns</p>\n",
       "</div>"
      ],
      "text/plain": [
       "                              1\n",
       "0                 2            \n",
       "8-716-011-453-AAP 2018-01-15  1\n",
       "                  2018-09-01  1\n",
       "                  2018-11-26  1\n",
       "                  2019-01-07  1\n",
       "                  2019-02-07  1\n",
       "...                          ..\n",
       "JS-K8-M1W-Z97-AAP 2020-12-18  4\n",
       "                  2020-12-21  6\n",
       "                  2020-12-22  2\n",
       "                  2020-12-23  3\n",
       "                  2020-12-24  6\n",
       "\n",
       "[6889 rows x 1 columns]"
      ]
     },
     "execution_count": 12,
     "metadata": {},
     "output_type": "execute_result"
    }
   ],
   "source": [
    "#Vendas totais de um artigo\n",
    "\n",
    "\n",
    "X = df.groupby([0,2])\n",
    "\n",
    "\n",
    "X.first()\n",
    "\n",
    "#pd.concat([X.get_group(serial) for name in serial])\n",
    "\n",
    "\n",
    "X=df.groupby([0,2]) #.groups\n",
    "#print(X)\n",
    "X.first()\n",
    "#plt.plot(X)\n"
   ]
  },
  {
   "cell_type": "code",
   "execution_count": 9,
   "id": "2197dbc1",
   "metadata": {},
   "outputs": [
    {
     "name": "stdout",
     "output_type": "stream",
     "text": [
      "8874.0\n"
     ]
    },
    {
     "ename": "TypeError",
     "evalue": "unhashable type: 'slice'",
     "output_type": "error",
     "traceback": [
      "\u001b[1;31m---------------------------------------------------------------------------\u001b[0m",
      "\u001b[1;31mTypeError\u001b[0m                                 Traceback (most recent call last)",
      "\u001b[1;32m<ipython-input-9-6e03dbee1d11>\u001b[0m in \u001b[0;36m<module>\u001b[1;34m\u001b[0m\n\u001b[0;32m      5\u001b[0m \u001b[1;33m\u001b[0m\u001b[0m\n\u001b[0;32m      6\u001b[0m \u001b[1;33m\u001b[0m\u001b[0m\n\u001b[1;32m----> 7\u001b[1;33m \u001b[0mtrain_X\u001b[0m\u001b[1;33m,\u001b[0m\u001b[0mtest_X\u001b[0m \u001b[1;33m=\u001b[0m \u001b[0mX\u001b[0m\u001b[1;33m[\u001b[0m\u001b[1;36m1\u001b[0m\u001b[1;33m:\u001b[0m\u001b[1;36m8874\u001b[0m\u001b[1;33m]\u001b[0m\u001b[1;33m,\u001b[0m \u001b[0mX\u001b[0m\u001b[1;33m[\u001b[0m\u001b[1;36m8874\u001b[0m\u001b[1;33m:\u001b[0m\u001b[1;33m]\u001b[0m  \u001b[1;31m# 75% and 25%\u001b[0m\u001b[1;33m\u001b[0m\u001b[1;33m\u001b[0m\u001b[0m\n\u001b[0m\u001b[0;32m      8\u001b[0m \u001b[1;33m\u001b[0m\u001b[0m\n\u001b[0;32m      9\u001b[0m \u001b[1;33m\u001b[0m\u001b[0m\n",
      "\u001b[1;31mTypeError\u001b[0m: unhashable type: 'slice'"
     ]
    }
   ],
   "source": [
    "#Treinar\n",
    "\n",
    "index_train=np.ceil(df_sz*0.75)\n",
    "print(index_train)\n",
    "\n",
    "\n",
    "train_X,test_X = X[1:8874], X[8874:]  # 75% and 25%\n",
    "\n",
    "\n",
    "train_X.shape,test_X.shape\n"
   ]
  },
  {
   "cell_type": "code",
   "execution_count": null,
   "id": "19fabb6b",
   "metadata": {},
   "outputs": [],
   "source": []
  }
 ],
 "metadata": {
  "kernelspec": {
   "display_name": "Python 3",
   "language": "python",
   "name": "python3"
  },
  "language_info": {
   "codemirror_mode": {
    "name": "ipython",
    "version": 3
   },
   "file_extension": ".py",
   "mimetype": "text/x-python",
   "name": "python",
   "nbconvert_exporter": "python",
   "pygments_lexer": "ipython3",
   "version": "3.8.8"
  }
 },
 "nbformat": 4,
 "nbformat_minor": 5
}
